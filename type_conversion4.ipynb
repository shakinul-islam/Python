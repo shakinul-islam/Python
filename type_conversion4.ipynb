{
  "nbformat": 4,
  "nbformat_minor": 0,
  "metadata": {
    "colab": {
      "provenance": [],
      "authorship_tag": "ABX9TyMMEAwCRjQgtKEvHrnKlkly",
      "include_colab_link": true
    },
    "kernelspec": {
      "name": "python3",
      "display_name": "Python 3"
    },
    "language_info": {
      "name": "python"
    }
  },
  "cells": [
    {
      "cell_type": "markdown",
      "metadata": {
        "id": "view-in-github",
        "colab_type": "text"
      },
      "source": [
        "<a href=\"https://colab.research.google.com/github/shakinul-islam/Python/blob/main/type_conversion4.ipynb\" target=\"_parent\"><img src=\"https://colab.research.google.com/assets/colab-badge.svg\" alt=\"Open In Colab\"/></a>"
      ]
    },
    {
      "cell_type": "code",
      "execution_count": 1,
      "metadata": {
        "colab": {
          "base_uri": "https://localhost:8080/"
        },
        "id": "HQH48bIezm4x",
        "outputId": "974c781b-5420-4209-c77b-5d335e386994"
      },
      "outputs": [
        {
          "output_type": "stream",
          "name": "stdout",
          "text": [
            "enter your old age:23\n",
            "25\n"
          ]
        }
      ],
      "source": [
        "old_age=input(\"enter your old age:\")\n",
        "new_age= int(old_age)+2\n",
        "print(new_age)"
      ]
    },
    {
      "cell_type": "code",
      "source": [
        "first=input(\"enter first number:\")\n",
        "second=input(\"enter second number:\")\n",
        "\n",
        "sum= int(first)+int(second)\n",
        "print(\"The sum is:\" +  str(sum))"
      ],
      "metadata": {
        "colab": {
          "base_uri": "https://localhost:8080/"
        },
        "id": "7sSh8qHG5bSE",
        "outputId": "74f60d66-e94b-45fe-a4b5-bec2266eddf4"
      },
      "execution_count": 7,
      "outputs": [
        {
          "output_type": "stream",
          "name": "stdout",
          "text": [
            "enter first number:5\n",
            "enter second number:5\n",
            "The sum is:10\n"
          ]
        }
      ]
    }
  ]
}