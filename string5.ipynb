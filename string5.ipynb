{
  "nbformat": 4,
  "nbformat_minor": 0,
  "metadata": {
    "colab": {
      "provenance": [],
      "authorship_tag": "ABX9TyP7g6xgjTYHYxdHHxjlBFYZ",
      "include_colab_link": true
    },
    "kernelspec": {
      "name": "python3",
      "display_name": "Python 3"
    },
    "language_info": {
      "name": "python"
    }
  },
  "cells": [
    {
      "cell_type": "markdown",
      "metadata": {
        "id": "view-in-github",
        "colab_type": "text"
      },
      "source": [
        "<a href=\"https://colab.research.google.com/github/shakinul-islam/Python/blob/main/string5.ipynb\" target=\"_parent\"><img src=\"https://colab.research.google.com/assets/colab-badge.svg\" alt=\"Open In Colab\"/></a>"
      ]
    },
    {
      "cell_type": "markdown",
      "source": [
        "keywords (in):"
      ],
      "metadata": {
        "id": "99J_RXabmxZR"
      }
    },
    {
      "cell_type": "code",
      "execution_count": 2,
      "metadata": {
        "colab": {
          "base_uri": "https://localhost:8080/"
        },
        "id": "0C6LwzY_ay-a",
        "outputId": "acaeca3b-6d06-4739-a132-f77cb36d8888"
      },
      "outputs": [
        {
          "output_type": "stream",
          "name": "stdout",
          "text": [
            "True\n"
          ]
        }
      ],
      "source": [
        "name = \"Shakinul\"\n",
        "print(\"Shaki\" in name)"
      ]
    },
    {
      "cell_type": "markdown",
      "source": [],
      "metadata": {
        "id": "eFPixR3nmveG"
      }
    },
    {
      "cell_type": "markdown",
      "source": [
        "not in:"
      ],
      "metadata": {
        "id": "rfxV3UVlnGkk"
      }
    },
    {
      "cell_type": "code",
      "source": [
        "name=\"Shakinul\"\n",
        "print(\"Shaki\" not in name)"
      ],
      "metadata": {
        "colab": {
          "base_uri": "https://localhost:8080/"
        },
        "id": "SYKvunoSm229",
        "outputId": "85fd8ceb-16a6-4b1c-d365-5646e29289ad"
      },
      "execution_count": 3,
      "outputs": [
        {
          "output_type": "stream",
          "name": "stdout",
          "text": [
            "False\n"
          ]
        }
      ]
    },
    {
      "cell_type": "markdown",
      "source": [
        "upper case:"
      ],
      "metadata": {
        "id": "fPvHTVpfnK_f"
      }
    },
    {
      "cell_type": "code",
      "source": [
        "name=\"Shakinul\"\n",
        "print(name.upper())"
      ],
      "metadata": {
        "colab": {
          "base_uri": "https://localhost:8080/"
        },
        "id": "tT_uZkYcnOtr",
        "outputId": "d42affa7-2958-4459-a184-3cfd6f0bd958"
      },
      "execution_count": 5,
      "outputs": [
        {
          "output_type": "stream",
          "name": "stdout",
          "text": [
            "SHAKINUL\n"
          ]
        }
      ]
    },
    {
      "cell_type": "markdown",
      "source": [
        "lower case:"
      ],
      "metadata": {
        "id": "pCN3wd4wnaf5"
      }
    },
    {
      "cell_type": "code",
      "source": [
        "name=\"Shakinul\"\n",
        "print(name.lower())"
      ],
      "metadata": {
        "colab": {
          "base_uri": "https://localhost:8080/"
        },
        "id": "vmbVDjB8nce8",
        "outputId": "16537862-f249-4dcf-b015-75cf4cac93b1"
      },
      "execution_count": 6,
      "outputs": [
        {
          "output_type": "stream",
          "name": "stdout",
          "text": [
            "shakinul\n"
          ]
        }
      ]
    },
    {
      "cell_type": "markdown",
      "source": [
        "find function:"
      ],
      "metadata": {
        "id": "j4uR2RbjnnOS"
      }
    },
    {
      "cell_type": "code",
      "source": [
        "name=\"Shakinul\"\n",
        "print(name.find('a'))"
      ],
      "metadata": {
        "colab": {
          "base_uri": "https://localhost:8080/"
        },
        "id": "BJlKTJ8lnwSK",
        "outputId": "ec31fc52-2059-432f-f380-9153d998fe46"
      },
      "execution_count": 9,
      "outputs": [
        {
          "output_type": "stream",
          "name": "stdout",
          "text": [
            "2\n"
          ]
        }
      ]
    },
    {
      "cell_type": "markdown",
      "source": [
        "replacement function:"
      ],
      "metadata": {
        "id": "ZLw1drCeoG7Q"
      }
    },
    {
      "cell_type": "code",
      "source": [
        "name=\"Shakinul\"\n",
        "print(name.replace('Shakinul','Shaki'))"
      ],
      "metadata": {
        "colab": {
          "base_uri": "https://localhost:8080/"
        },
        "id": "oInspC1-oKE_",
        "outputId": "549f102c-d04a-4856-e6e3-bfb5c7100cb6"
      },
      "execution_count": 10,
      "outputs": [
        {
          "output_type": "stream",
          "name": "stdout",
          "text": [
            "Shaki\n"
          ]
        }
      ]
    }
  ]
}