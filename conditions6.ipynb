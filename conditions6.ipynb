{
  "nbformat": 4,
  "nbformat_minor": 0,
  "metadata": {
    "colab": {
      "provenance": [],
      "authorship_tag": "ABX9TyO3w87nB5gMwqdtArCMJ8mT",
      "include_colab_link": true
    },
    "kernelspec": {
      "name": "python3",
      "display_name": "Python 3"
    },
    "language_info": {
      "name": "python"
    }
  },
  "cells": [
    {
      "cell_type": "markdown",
      "metadata": {
        "id": "view-in-github",
        "colab_type": "text"
      },
      "source": [
        "<a href=\"https://colab.research.google.com/github/shakinul-islam/Python/blob/main/conditions6.ipynb\" target=\"_parent\"><img src=\"https://colab.research.google.com/assets/colab-badge.svg\" alt=\"Open In Colab\"/></a>"
      ]
    },
    {
      "cell_type": "code",
      "execution_count": 2,
      "metadata": {
        "colab": {
          "base_uri": "https://localhost:8080/"
        },
        "id": "_VDG3lAmPsWh",
        "outputId": "c8b7754e-82bf-4aaf-d1a1-73749dd58267"
      },
      "outputs": [
        {
          "output_type": "stream",
          "name": "stdout",
          "text": [
            "You are in school\n",
            "Thank you\n"
          ]
        }
      ],
      "source": [
        "age=16\n",
        "\n",
        "if age >=18:\n",
        "  print(\"You are an adult\")\n",
        "  print(\"You can vote\")\n",
        "\n",
        "elif age<18 and age>3:\n",
        "  print(\"You are in school\")\n",
        "\n",
        "else:\n",
        "  print(\"You are a child\")\n",
        "\n",
        "print(\"Thank you\")\n"
      ]
    },
    {
      "cell_type": "code",
      "source": [],
      "metadata": {
        "id": "3bQkdWDTRSD-"
      },
      "execution_count": null,
      "outputs": []
    }
  ]
}