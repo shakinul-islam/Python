{
  "nbformat": 4,
  "nbformat_minor": 0,
  "metadata": {
    "colab": {
      "provenance": [],
      "authorship_tag": "ABX9TyPyGEB5JkX0cxevptPoLcXj",
      "include_colab_link": true
    },
    "kernelspec": {
      "name": "python3",
      "display_name": "Python 3"
    },
    "language_info": {
      "name": "python"
    }
  },
  "cells": [
    {
      "cell_type": "markdown",
      "metadata": {
        "id": "view-in-github",
        "colab_type": "text"
      },
      "source": [
        "<a href=\"https://colab.research.google.com/github/shakinul-islam/Python/blob/main/conditions6.ipynb\" target=\"_parent\"><img src=\"https://colab.research.google.com/assets/colab-badge.svg\" alt=\"Open In Colab\"/></a>"
      ]
    },
    {
      "cell_type": "code",
      "execution_count": 2,
      "metadata": {
        "colab": {
          "base_uri": "https://localhost:8080/"
        },
        "id": "_VDG3lAmPsWh",
        "outputId": "c8b7754e-82bf-4aaf-d1a1-73749dd58267"
      },
      "outputs": [
        {
          "output_type": "stream",
          "name": "stdout",
          "text": [
            "You are in school\n",
            "Thank you\n"
          ]
        }
      ],
      "source": [
        "age=16\n",
        "\n",
        "if age >=18:\n",
        "  print(\"You are an adult\")\n",
        "  print(\"You can vote\")\n",
        "\n",
        "elif age<18 and age>3:\n",
        "  print(\"You are in school\")\n",
        "\n",
        "else:\n",
        "  print(\"You are a child\")\n",
        "\n",
        "print(\"Thank you\")\n"
      ]
    },
    {
      "cell_type": "markdown",
      "source": [
        "Match-Case Statement in Python(3.10)/Switch-case"
      ],
      "metadata": {
        "id": "cXCJg6bdSmQf"
      }
    },
    {
      "cell_type": "code",
      "source": [
        "number = 2\n",
        "\n",
        "match number:\n",
        "    case 1:\n",
        "        print(\"One\")\n",
        "    case 2 | 3:\n",
        "        print(\"Two or Three\")\n",
        "    case _:\n",
        "        print(\"Other number\")"
      ],
      "metadata": {
        "colab": {
          "base_uri": "https://localhost:8080/"
        },
        "id": "3bQkdWDTRSD-",
        "outputId": "54632787-0b25-475b-c54c-a6b200263aac"
      },
      "execution_count": 4,
      "outputs": [
        {
          "output_type": "stream",
          "name": "stdout",
          "text": [
            "Two or Three\n"
          ]
        }
      ]
    }
  ]
}