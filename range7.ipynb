{
  "nbformat": 4,
  "nbformat_minor": 0,
  "metadata": {
    "colab": {
      "provenance": [],
      "authorship_tag": "ABX9TyN076VGioe08yDrkw9tvkxJ",
      "include_colab_link": true
    },
    "kernelspec": {
      "name": "python3",
      "display_name": "Python 3"
    },
    "language_info": {
      "name": "python"
    }
  },
  "cells": [
    {
      "cell_type": "markdown",
      "metadata": {
        "id": "view-in-github",
        "colab_type": "text"
      },
      "source": [
        "<a href=\"https://colab.research.google.com/github/shakinul-islam/Python/blob/main/range7.ipynb\" target=\"_parent\"><img src=\"https://colab.research.google.com/assets/colab-badge.svg\" alt=\"Open In Colab\"/></a>"
      ]
    },
    {
      "cell_type": "markdown",
      "source": [
        "That will print 0 to 4, all number"
      ],
      "metadata": {
        "id": "YFWeYRyom7Qx"
      }
    },
    {
      "cell_type": "code",
      "source": [
        "numbers=range(5)\n",
        "print (numbers)"
      ],
      "metadata": {
        "id": "ynU6pI05nYlw"
      },
      "execution_count": null,
      "outputs": []
    },
    {
      "cell_type": "markdown",
      "source": [
        "if I want to see all the output then need to write this type of code. using \"list\" function"
      ],
      "metadata": {
        "id": "6-as1jlonblu"
      }
    },
    {
      "cell_type": "code",
      "source": [
        "numbers = range(5)\n",
        "print(list(numbers))\n"
      ],
      "metadata": {
        "colab": {
          "base_uri": "https://localhost:8080/"
        },
        "id": "0uAczu42nvZ4",
        "outputId": "384c095e-64b7-4e86-a344-8b43e6f78b14"
      },
      "execution_count": 2,
      "outputs": [
        {
          "output_type": "stream",
          "name": "stdout",
          "text": [
            "[0, 1, 2, 3, 4]\n"
          ]
        }
      ]
    }
  ]
}