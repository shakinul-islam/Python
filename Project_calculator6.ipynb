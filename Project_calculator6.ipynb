{
  "nbformat": 4,
  "nbformat_minor": 0,
  "metadata": {
    "colab": {
      "provenance": [],
      "authorship_tag": "ABX9TyOABPjeiJDDnxAUpNKCRDNR",
      "include_colab_link": true
    },
    "kernelspec": {
      "name": "python3",
      "display_name": "Python 3"
    },
    "language_info": {
      "name": "python"
    }
  },
  "cells": [
    {
      "cell_type": "markdown",
      "metadata": {
        "id": "view-in-github",
        "colab_type": "text"
      },
      "source": [
        "<a href=\"https://colab.research.google.com/github/shakinul-islam/Python/blob/main/Project_calculator6.ipynb\" target=\"_parent\"><img src=\"https://colab.research.google.com/assets/colab-badge.svg\" alt=\"Open In Colab\"/></a>"
      ]
    },
    {
      "cell_type": "code",
      "execution_count": 6,
      "metadata": {
        "colab": {
          "base_uri": "https://localhost:8080/"
        },
        "id": "emP5oNl_Usys",
        "outputId": "73395352-2ff7-43ab-9b72-a1e8776634fe"
      },
      "outputs": [
        {
          "output_type": "stream",
          "name": "stdout",
          "text": [
            "Enter your first number: 9\n",
            "Enter your operator (+, -, *, /): *\n",
            "Enter your second number: 9\n",
            "81\n"
          ]
        }
      ],
      "source": [
        "first = input(\"Enter your first number: \")\n",
        "operators = input(\"Enter your operator (+, -, *, /): \")\n",
        "second = input(\"Enter your second number: \")\n",
        "\n",
        "first = int(first) #converted string into integer\n",
        "second = int(second) #converted string into integer\n",
        "\n",
        "if operators == \"+\":\n",
        "    print(first + second)\n",
        "elif operators == \"-\":\n",
        "    print(first - second)\n",
        "elif operators == \"*\":\n",
        "    print(first * second)\n",
        "elif operators == \"/\":\n",
        "    print(first / second)\n",
        "else:\n",
        "    print(\"Invalid operation\")\n"
      ]
    }
  ]
}